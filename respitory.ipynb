{
 "cells": [
  {
   "cell_type": "code",
   "execution_count": 2,
   "metadata": {},
   "outputs": [],
   "source": [
    "# Load various imports\n",
    "from datetime import datetime\n",
    "from os import listdir\n",
    "from os.path import isfile, join\n",
    "\n",
    "import librosa\n",
    "import librosa.display\n",
    "\n",
    "import numpy as np\n",
    "import pandas as pd\n",
    "\n",
    "import tensorflow\n",
    "from tensorflow.keras.models import Sequential\n",
    "from tensorflow.keras.layers import Dense, Dropout, Conv2D, MaxPooling2D, GlobalAveragePooling2D\n",
    "from keras.utils import to_categorical\n",
    "from tensorflow.keras.callbacks import ModelCheckpoint\n",
    "\n",
    "from sklearn.metrics import confusion_matrix, classification_report, roc_curve, auc, ConfusionMatrixDisplay\n",
    "from sklearn.model_selection import train_test_split\n",
    "from sklearn.preprocessing import LabelEncoder\n",
    "\n",
    "import matplotlib.pyplot as plt\n",
    "import seaborn as sns\n",
    "from sklearn.preprocessing import StandardScaler, OneHotEncoder\n",
    "from sklearn.preprocessing import MinMaxScaler"
   ]
  },
  {
   "cell_type": "code",
   "execution_count": 3,
   "metadata": {},
   "outputs": [
    {
     "name": "stdout",
     "output_type": "stream",
     "text": [
      "115\n"
     ]
    }
   ],
   "source": [
    "shorten = True \n",
    "k = 8\n",
    "mypath = 'C:/Users/Agraw/Downloads/archive/Respiratory_Sound_Database/Respiratory_Sound_Database/audio_and_txt_files'\n",
    "filenames = [f for f in listdir(mypath) if (isfile(join(mypath, f)) and f.endswith('.wav'))] \n",
    "if shorten: filenames = filenames[0:int(len(filenames)/k)]\n",
    "print(len(filenames))"
   ]
  },
  {
   "cell_type": "code",
   "execution_count": 4,
   "metadata": {},
   "outputs": [],
   "source": [
    "p_id_in_file = [] # patient IDs corresponding to each file\n",
    "for name in filenames:\n",
    "    p_id_in_file.append(int(name[:3]))\n",
    "\n",
    "p_id_in_file = np.array(p_id_in_file)"
   ]
  },
  {
   "cell_type": "code",
   "execution_count": 5,
   "metadata": {},
   "outputs": [
    {
     "name": "stdout",
     "output_type": "stream",
     "text": [
      "[['Bronchiectasis' 'COPD' 'Healthy' 'Pneumonia' 'URTI']\n",
      " ['4' '87' '7' '9' '5']]\n"
     ]
    }
   ],
   "source": [
    "filepaths = [join(mypath, f) for f in filenames] # full paths of files\n",
    "p_diag=pd.read_csv('C:/Users/Agraw/Downloads/archive/Respiratory_Sound_Database/Respiratory_Sound_Database/patient_diagnosis.csv',header=None)\n",
    "labels = np.array([p_diag[p_diag[0] == x][1].values[0] for x in p_id_in_file]) # labels for audio files\n",
    "# print(labels)\n",
    "# print(len(labels))\n",
    "'''\n",
    "\n",
    "'''\n",
    "\n",
    "# delete the very rare diseases, rewrite into same array for space? \n",
    "new_filepaths = np.delete(filepaths, np.where((labels == 'Asthma') | (labels == 'LRTI'))[0], axis=0)\n",
    "new_labels = np.delete(labels, np.where((labels == 'Asthma') | (labels == 'LRTI'))[0], axis=0)\n",
    "assert len(new_filepaths) == len(new_labels)\n",
    "\n",
    "# print class counts\n",
    "unique_elements, counts_elements = np.unique(new_labels, return_counts=True) \n",
    "#amt of values that have same value,  i.e. same class \n",
    "print(np.asarray((unique_elements, counts_elements)))\n",
    "\n",
    "# print(len(new_filepaths), len(new_labels))\n"
   ]
  },
  {
   "cell_type": "code",
   "execution_count": 6,
   "metadata": {},
   "outputs": [
    {
     "name": "stdout",
     "output_type": "stream",
     "text": [
      "3 1\n",
      "69 18\n",
      "6 1\n",
      "7 2\n",
      "4 1\n"
     ]
    }
   ],
   "source": [
    "train_fp, test_fp, label_train, label_test = train_test_split(new_filepaths, new_labels, stratify=new_labels, #doesnt work with features \n",
    "\n",
    "                                                    test_size=0.2, random_state = 42)\n",
    "\n",
    "for d in unique_elements:\n",
    "    files_trained = train_fp[np.argwhere(label_train ==d)]\n",
    "    files_tested = test_fp[np.argwhere(label_test ==d)]\n",
    "\n",
    "    print(len(files_trained), len(files_tested))\n",
    "    "
   ]
  },
  {
   "cell_type": "code",
   "execution_count": 7,
   "metadata": {},
   "outputs": [
    {
     "data": {
      "text/plain": [
       "'\\nDATA AUGMENTATION FUNCTIONS \\n'"
      ]
     },
     "execution_count": 7,
     "metadata": {},
     "output_type": "execute_result"
    }
   ],
   "source": [
    "'''\n",
    "DATA AUGMENTATION FUNCTIONS \n",
    "'''"
   ]
  },
  {
   "cell_type": "code",
   "execution_count": 8,
   "metadata": {},
   "outputs": [],
   "source": [
    "def add_noise(data):\n",
    "    noise_value = 0.015 * np.random.uniform() * np.amax(data)   # 1.5% with variation from 0-1 with emphasis on 0.5 of the maximum value \n",
    "    data = data + noise_value * np.random.normal(size=data.shape[0])   # Add noise to the data\n",
    "    return data"
   ]
  },
  {
   "cell_type": "code",
   "execution_count": 9,
   "metadata": {},
   "outputs": [],
   "source": [
    "def stretch_process(data, rate=0.8):\n",
    "    return librosa.effects.time_stretch(data, rate=0.8) #elongate data"
   ]
  },
  {
   "cell_type": "code",
   "execution_count": 10,
   "metadata": {},
   "outputs": [],
   "source": [
    "def pitch_process(data, sampling_rate, pitch_factor=0.7):\n",
    "    return librosa.effects.pitch_shift(data, sr=sampling_rate, n_steps=pitch_factor) # Shifts the pitch of the audio data by a specified number of semitones.\n",
    "#this shift is very subtle, 0.7 of a semitone is less than 1/12 of a octave. barely any change jjust a little "
   ]
  },
  {
   "cell_type": "code",
   "execution_count": 11,
   "metadata": {},
   "outputs": [
    {
     "data": {
      "text/plain": [
       "'\\nDATA PROCESS FUNCTIONS \\n'"
      ]
     },
     "execution_count": 11,
     "metadata": {},
     "output_type": "execute_result"
    }
   ],
   "source": [
    "'''\n",
    "DATA PROCESS FUNCTIONS \n",
    "'''"
   ]
  },
  {
   "cell_type": "code",
   "execution_count": 12,
   "metadata": {},
   "outputs": [],
   "source": [
    "def extract_process(data, sample_rate, debug=False):\n",
    "    output_result = np.array([])\n",
    "    #amt of times  signal crosses zero (measuring silence) \n",
    "    mean_zero = np.mean(librosa.feature.zero_crossing_rate(y=data).T, axis=0) \n",
    "    if debug: print('mean_zero shape',mean_zero.shape) \n",
    "    #you can horizontally add elements that have the same amount of rows without having to flatten the array\n",
    "    '''\n",
    "    [1] + [2] = [1,2]   \n",
    "    [1,2]   [3]   [1, 2, 3]\n",
    "    [1,2] + [3] = [1, 2, 3,]\n",
    "    '''\n",
    "    output_result = np.hstack((output_result, mean_zero)) \n",
    "    #positive of all values + short time ft (measuring loudness)  + zero crossing rate (measuring silence) \n",
    "    stft_out = np.abs(librosa.stft(data))\n",
    "    if debug: print('stft_out shape', stft_out.shape) \n",
    "    '''\n",
    "    Chroma features represent the energy content of the audio signal across different pitch classes \n",
    "    (the 12 unique notes in an octave, regardless of octave). \n",
    "    This is useful in music analysis for identifying harmonies and chords.\n",
    "    \n",
    "    The chroma_stft variable will contain a single value for each of the 12 pitch classes, \n",
    "    summarizing how much energy is present in each pitch class across the entire audio signal.\n",
    "    This is important for music analysis tasks, as it helps capture the harmonic structure of the audio.\n",
    "    '''\n",
    "    chroma_stft = np.mean(librosa.feature.chroma_stft(S=stft_out, sr=sample_rate).T, axis=0)\n",
    "    output_result = np.hstack((output_result, chroma_stft))\n",
    "    if debug: print('chroma_stft shape',chroma_stft.shape) \n",
    "    \n",
    "    mfcc_out = np.mean(librosa.feature.mfcc(y=data, sr=sample_rate, n_mfcc=40).T, axis=0)\n",
    "    output_result = np.hstack((output_result, mfcc_out))\n",
    "    if debug: print('mfcc_out shape',mfcc_out.shape) \n",
    "    '''\n",
    "    The root_mean_out variable contains a single average RMS value that summarizes the overall loudness or energy level of the audio signal.\n",
    "    This feature is particularly useful for understanding dynamic variations in the audio, such as changes in loudness over time.\n",
    "    '''\n",
    "    root_mean_out = np.mean(librosa.feature.rms(y=data).T, axis=0)\n",
    "    output_result = np.hstack((output_result, root_mean_out)) \n",
    "    if debug:  print('root_mean_out shape',root_mean_out.shape) \n",
    "\n",
    "    mel_spectogram = np.mean(librosa.feature.melspectrogram(y=data, sr=sample_rate).T, axis=0)\n",
    "    output_result = np.hstack((output_result, mel_spectogram))\n",
    "    if debug:  print('mel_spectogram shape',mel_spectogram.shape) \n",
    "\n",
    "\n",
    "    return output_result\n"
   ]
  },
  {
   "cell_type": "code",
   "execution_count": 13,
   "metadata": {},
   "outputs": [],
   "source": [
    "def extract_features(file_name, debug=False):\n",
    "    \"\"\"\n",
    "    This function takes in the path for an audio file as a string, loads it,\n",
    "    and extracts several audio features including mean values of MFCC, Zero Crossing Rate,\n",
    "    Chromagram, Root Mean Square Energy, and Mel Spectrogram from the original and its augmented versions.\n",
    "    \n",
    "    create argument for extraction == false,  to return the original audio file instead of the augmented one. \n",
    "\n",
    "    \"\"\"\n",
    "    try:\n",
    "        # Load the original audio file\n",
    "        audio, sample_rate = librosa.load(file_name, res_type='kaiser_fast', duration=42, offset=0.6)\n",
    "        if debug: print(sample_rate)\n",
    "        assert  sample_rate == 22050, \"Sample rate is not 22050\" \n",
    "\n",
    "\n",
    "        # Extract features from the original audio data\n",
    "        extracted_features = extract_process(audio, sample_rate, debug=False)\n",
    "        result = np.array(extracted_features)\n",
    "\n",
    "        # Add noise and extract features\n",
    "        noise_out = add_noise(audio)\n",
    "        output_2 = extract_process(noise_out, sample_rate)\n",
    "        result = np.vstack((result, output_2))\n",
    "\n",
    "        # Time-stretch and then pitch-shift before extracting features\n",
    "        new_out = stretch_process(audio,0.8)\n",
    "        stretch_pitch = pitch_process(new_out, sample_rate,pitch_factor=0.7)\n",
    "        output_3 = extract_process(stretch_pitch, sample_rate)\n",
    "        result = np.vstack((result, output_3))\n",
    "\n",
    "    except Exception as e:\n",
    "        print(\"Error encountered while parsing file: \", file_name)\n",
    "        print(\"Error Details:\", e)\n",
    "        return None\n",
    "\n",
    "    return result\n",
    "\n",
    "\n"
   ]
  },
  {
   "cell_type": "code",
   "execution_count": 14,
   "metadata": {},
   "outputs": [
    {
     "data": {
      "text/plain": [
       "(3, 182)"
      ]
     },
     "execution_count": 14,
     "metadata": {},
     "output_type": "execute_result"
    }
   ],
   "source": [
    "t = extract_features(filepaths[0]) \n",
    "t.shape"
   ]
  },
  {
   "cell_type": "code",
   "execution_count": 15,
   "metadata": {},
   "outputs": [
    {
     "data": {
      "text/plain": [
       "'\\nDATA PROCESS AND ENGINEERING\\n'"
      ]
     },
     "execution_count": 15,
     "metadata": {},
     "output_type": "execute_result"
    }
   ],
   "source": [
    "'''\n",
    "DATA PROCESS AND ENGINEERING\n",
    "'''"
   ]
  },
  {
   "cell_type": "code",
   "execution_count": 16,
   "metadata": {},
   "outputs": [
    {
     "name": "stdout",
     "output_type": "stream",
     "text": [
      "Finished feature extraction from  89  files\n",
      "Finished feature extraction from  23  files\n"
     ]
    }
   ],
   "source": [
    "training_features = []\n",
    "testing_features =[]\n",
    "#randomize file paths\n",
    "# Iterate through each sound file and extract the features\n",
    "for file_name in train_fp:\n",
    "    data = extract_features(file_name)\n",
    "    #print(data) -> too much data; will take long  time to print \n",
    "    training_features.append(data) \n",
    "for file_name in test_fp:\n",
    "    data = extract_features(file_name)\n",
    "    #print(data) -> too much data; will take long  time to print \n",
    "    testing_features.append(data) \n",
    "#------------------------------------------------------------------------------\n",
    "print('Finished feature extraction from ', len(training_features), ' files')\n",
    "print('Finished feature extraction from ', len(testing_features), ' files')"
   ]
  },
  {
   "cell_type": "code",
   "execution_count": 17,
   "metadata": {},
   "outputs": [
    {
     "name": "stdout",
     "output_type": "stream",
     "text": [
      "training_features: (89, 3, 182)\n",
      "testing_features: (23, 3, 182)\n"
     ]
    }
   ],
   "source": [
    "training_features = np.array(training_features)\n",
    "print('training_features:',training_features.shape)\n",
    "testing_features = np.array(testing_features)\n",
    "print('testing_features:',testing_features.shape)"
   ]
  },
  {
   "cell_type": "code",
   "execution_count": 18,
   "metadata": {},
   "outputs": [],
   "source": [
    "# # delete the very rare diseases, rewrite into same array for space? \n",
    "# new_features = np.delete(features, np.where((labels == 'Asthma') | (labels == 'LRTI'))[0], axis=0)\n",
    "\n",
    "# new_labels = np.delete(labels, np.where((labels == 'Asthma') | (labels == 'LRTI'))[0], axis=0)"
   ]
  },
  {
   "cell_type": "code",
   "execution_count": 19,
   "metadata": {},
   "outputs": [],
   "source": [
    "# # print class counts\n",
    "# unique_elements, counts_elements = np.unique(new_labels, return_counts=True) \n",
    "# #amt of values that have same value,  i.e. same class \n",
    "# print(np.asarray((unique_elements, counts_elements)))"
   ]
  },
  {
   "cell_type": "code",
   "execution_count": 20,
   "metadata": {},
   "outputs": [
    {
     "data": {
      "image/png": "[encoded data removed]",
      "text/plain": [
       "<Figure size 1200x800 with 1 Axes>"
      ]
     },
     "metadata": {},
     "output_type": "display_data"
    }
   ],
   "source": [
    "# plot class counts\n",
    "y_pos = np.arange(len(unique_elements))\n",
    "plt.figure(figsize=(12,8))\n",
    "plt.bar(unique_elements, counts_elements, align='center', alpha=0.5)\n",
    "plt.xticks(y_pos, unique_elements)\n",
    "plt.ylabel('Count')\n",
    "plt.xlabel('Disease')\n",
    "plt.title('Disease Count in Sound Files (No Asthma or LRTI)')\n",
    "plt.show()"
   ]
  },
  {
   "cell_type": "code",
   "execution_count": 21,
   "metadata": {},
   "outputs": [
    {
     "name": "stdout",
     "output_type": "stream",
     "text": [
      "flattened_testfeatures (69, 182)\n",
      "flattened_trainfeatures (267, 182)\n"
     ]
    }
   ],
   "source": [
    "flattened_testfeatures = testing_features.reshape(-1, 182) #test train\n",
    "print('flattened_testfeatures',flattened_testfeatures.shape)\n",
    "flattened_trainfeatures = training_features.reshape(-1,182)\n",
    "print('flattened_trainfeatures',flattened_trainfeatures.shape)\n",
    "#[0,0,0,1,1,1,2,2,2,3,3,3,4,4,4]"
   ]
  },
  {
   "cell_type": "code",
   "execution_count": 22,
   "metadata": {},
   "outputs": [
    {
     "name": "stdout",
     "output_type": "stream",
     "text": [
      "(69,)\n",
      "(267,)\n"
     ]
    }
   ],
   "source": [
    "augmented_test_labels = np.repeat(label_test, 3)   # Repeat labels 3 times for test train \n",
    "augmented_train_labels = np.repeat(label_train, 3)   # Repeat labels 3 times for test train \n",
    "print(augmented_test_labels.shape)\n",
    "print(augmented_train_labels.shape)"
   ]
  },
  {
   "cell_type": "code",
   "execution_count": 23,
   "metadata": {},
   "outputs": [],
   "source": [
    "# augmented_features = np.reshape(features, (-1, 182))  # Flatten the feature sets\n",
    "\n",
    "# mask = ~np.isin(augmented_labels, ['Asthma', 'LRTI']) #determine the difference between two sets of values. \n",
    "# augmented_features = augmented_features[mask]  #filter out the values that are not in the mask\n",
    "# augmented_labels = augmented_labels[mask]   #filter out the values that are not in the mask\n"
   ]
  },
  {
   "cell_type": "code",
   "execution_count": 24,
   "metadata": {},
   "outputs": [],
   "source": [
    "le = LabelEncoder()\n",
    "'''\n",
    "Fit: It learns the unique categories and assigns them a unique integer value (starting from 0).\n",
    "Transform: It converts the original categorical data into the corresponding integers\n",
    "'''\n",
    "i_testlabels = le.fit_transform(augmented_test_labels)\n",
    "i_trainlabels = le.fit_transform(augmented_train_labels)\n",
    "#oh label test train \n",
    "oh_testlabels = to_categorical(i_testlabels) #using onehot encoding to convert labels into binary format \n",
    "oh_trainlabels = to_categorical(i_trainlabels) #using onehot encoding to convert labels into binary format \n",
    "\n"
   ]
  },
  {
   "cell_type": "code",
   "execution_count": 25,
   "metadata": {},
   "outputs": [
    {
     "name": "stdout",
     "output_type": "stream",
     "text": [
      "(69,)\n",
      "(267,)\n",
      "(69, 5)\n",
      "(267, 5)\n"
     ]
    }
   ],
   "source": [
    "print(i_testlabels.shape)\n",
    "print(i_trainlabels.shape)\n",
    "print(oh_testlabels.shape)\n",
    "print(oh_trainlabels.shape)"
   ]
  },
  {
   "cell_type": "code",
   "execution_count": 26,
   "metadata": {},
   "outputs": [
    {
     "data": {
      "text/plain": [
       "'\\n# '"
      ]
     },
     "execution_count": 26,
     "metadata": {},
     "output_type": "execute_result"
    }
   ],
   "source": [
    "# train test split\n",
    "'''\n",
    "# '''\n",
    "# x_train = flattened_features[0:2200]\n",
    "# x_test  = flattened_features[2200:] \n",
    "# y_train = oh_labels[0:2200]\n",
    "# y_test =  oh_labels[2200:]\n",
    "\n",
    "\n",
    "# x_train, x_test, y_train, y_test = train_test_split(flattened_features, oh_labels, stratify=oh_labels, #doesnt work with features \n",
    "\n",
    "#                                                     test_size=0.2, random_state = 42)\n",
    "\n"
   ]
  },
  {
   "cell_type": "code",
   "execution_count": 27,
   "metadata": {},
   "outputs": [],
   "source": [
    "#SCALER & TRANSFORMATION\n",
    "scaler_data = StandardScaler()"
   ]
  },
  {
   "cell_type": "code",
   "execution_count": 28,
   "metadata": {},
   "outputs": [
    {
     "name": "stdout",
     "output_type": "stream",
     "text": [
      "(69, 182)\n",
      "(69, 5)\n",
      "(267, 182)\n",
      "(267, 5)\n"
     ]
    }
   ],
   "source": [
    "print(flattened_testfeatures.shape)\n",
    "print(oh_testlabels.shape)\n",
    "print(flattened_trainfeatures.shape)\n",
    "print(oh_trainlabels.shape)"
   ]
  },
  {
   "cell_type": "code",
   "execution_count": 1,
   "metadata": {},
   "outputs": [
    {
     "ename": "NameError",
     "evalue": "name 'scaler_data' is not defined",
     "output_type": "error",
     "traceback": [
      "\u001b[1;31m---------------------------------------------------------------------------\u001b[0m",
      "\u001b[1;31mNameError\u001b[0m                                 Traceback (most recent call last)",
      "Cell \u001b[1;32mIn[1], line 1\u001b[0m\n\u001b[1;32m----> 1\u001b[0m x_train \u001b[38;5;241m=\u001b[39m \u001b[43mscaler_data\u001b[49m\u001b[38;5;241m.\u001b[39mfit_transform(flattened_trainfeatures)\n\u001b[0;32m      2\u001b[0m x_test \u001b[38;5;241m=\u001b[39m scaler_data\u001b[38;5;241m.\u001b[39mtransform(flattened_testfeatures)\n\u001b[0;32m      3\u001b[0m y_train \u001b[38;5;241m=\u001b[39m oh_trainlabels\n",
      "\u001b[1;31mNameError\u001b[0m: name 'scaler_data' is not defined"
     ]
    }
   ],
   "source": [
    "x_train = scaler_data.fit_transform(flattened_trainfeatures)\n",
    "x_test = scaler_data.transform(flattened_testfeatures)\n",
    "y_train = oh_trainlabels\n",
    "y_test = oh_testlabels"
   ]
  },
  {
   "cell_type": "code",
   "execution_count": 71,
   "metadata": {},
   "outputs": [],
   "source": [
    "x_train = np.expand_dims(x_train,axis=2)\n",
    "x_test = np.expand_dims(x_test,axis=2)\n",
    "#cnn model takes 3 dimensions, creating empty column for cnn to read \n",
    "#cnn format h,w,channel (needs 3 dimensions for each parameter)\n",
    "#channel first vs channel last (defakt) -> typically used in image processing (such as 3 primary colors [3 channels])"
   ]
  },
  {
   "cell_type": "code",
   "execution_count": 72,
   "metadata": {},
   "outputs": [
    {
     "data": {
      "text/plain": [
       "'\\n1D CNN MODEL\\n'"
      ]
     },
     "execution_count": 72,
     "metadata": {},
     "output_type": "execute_result"
    }
   ],
   "source": [
    "'''\n",
    "1D CNN MODEL\n",
    "'''"
   ]
  },
  {
   "cell_type": "code",
   "execution_count": 73,
   "metadata": {},
   "outputs": [],
   "source": [
    "from tensorflow.keras import layers, Sequential\n",
    "\n",
    "num_labels = len(np.unique(new_labels))  # Determine the number of unique classes\n",
    "\n",
    "'''\n",
    "right now doing feature extract, want to use only raw data and make new model \n",
    "'''\n",
    "\n",
    "Model = Sequential([\n",
    "    layers.Conv1D(256, kernel_size=5, strides=1, padding='same', activation='relu', input_shape=(x_train.shape[1], 1)),\n",
    "    layers.MaxPooling1D(pool_size=5, strides = 2, padding = 'same'),\n",
    "    layers.Conv1D(256, kernel_size=5, strides=1, padding='same', activation='relu'),\n",
    "    layers.MaxPooling1D(pool_size=5, strides = 2, padding = 'same'),\n",
    "    layers.Conv1D(128, kernel_size=5, strides=1, padding='same', activation='relu'),\n",
    "    layers.MaxPooling1D(pool_size=5, strides = 2, padding = 'same'),\n",
    "    layers.Conv1D(64, kernel_size=5, strides=1, padding='same', activation='relu'),\n",
    "    layers.MaxPooling1D(pool_size=5, strides = 2, padding = 'same'),\n",
    "    layers.Conv1D(32, kernel_size=5, strides=1, padding='same', activation='relu'),\n",
    "    layers.MaxPooling1D(pool_size=5, strides = 2, padding = 'same'),\n",
    "    layers.Dropout(0.2),\n",
    "    layers.Flatten(),\n",
    "    layers.Dense(units=32, activation='relu'),\n",
    "    layers.Dropout(0.3),\n",
    "    layers.Dense(units=num_labels, activation='softmax')\n",
    "])"
   ]
  },
  {
   "cell_type": "code",
   "execution_count": 74,
   "metadata": {},
   "outputs": [],
   "source": [
    "Model.compile(optimizer = 'adam' , loss = 'categorical_crossentropy' , metrics = ['accuracy'])\n",
    "early_stop = tensorflow.keras.callbacks.EarlyStopping(monitor=\"loss\",patience=100,mode=\"min\")\n"
   ]
  },
  {
   "cell_type": "code",
   "execution_count": 93,
   "metadata": {},
   "outputs": [
    {
     "name": "stdout",
     "output_type": "stream",
     "text": [
      "Checkpoint Directory: c:\\Users\\Agraw\\denoise_speech\\demo_work\\py_files\\training_1\n"
     ]
    }
   ],
   "source": [
    "import os\n",
    "\n",
    "checkpoint_path_1 = \"training_1/cp-{epoch:04d}.ckpt\"\n",
    "checkpoint_dir_1 = os.path.dirname(checkpoint_path_1)\n",
    "\n",
    "# Print the full path of the checkpoint directory\n",
    "print(\"Checkpoint Directory:\", os.path.abspath(checkpoint_dir_1))\n",
    "\n",
    "# Create the directory if it doesn't exist\n",
    "if not os.path.exists(checkpoint_dir_1):\n",
    "    os.makedirs(checkpoint_dir_1)\n",
    "\n",
    "# Define the ModelCheckpoint callback\n",
    "checkpoint_callback_1 = tf.keras.callbacks.ModelCheckpoint(\n",
    "    filepath=checkpoint_path_1, \n",
    "    verbose=1, \n",
    "    save_weights_only=True, \n",
    "    save_freq='epoch'\n",
    ")"
   ]
  },
  {
   "cell_type": "code",
   "execution_count": 95,
   "metadata": {},
   "outputs": [
    {
     "name": "stdout",
     "output_type": "stream",
     "text": [
      "Epoch 1/50\n",
      "4/5 [=======================>......] - ETA: 0s - loss: 6.5362e-04 - accuracy: 1.0000\n",
      "Epoch 1: saving model to training_1\\cp-0001.ckpt\n",
      "5/5 [==============================] - 1s 150ms/step - loss: 6.2691e-04 - accuracy: 1.0000 - val_loss: 4.4158 - val_accuracy: 0.8696\n",
      "Epoch 2/50\n",
      "4/5 [=======================>......] - ETA: 0s - loss: 1.9201e-04 - accuracy: 1.0000\n",
      "Epoch 2: saving model to training_1\\cp-0002.ckpt\n",
      "5/5 [==============================] - 1s 127ms/step - loss: 1.8410e-04 - accuracy: 1.0000 - val_loss: 4.4263 - val_accuracy: 0.8696\n",
      "Epoch 3/50\n",
      "4/5 [=======================>......] - ETA: 0s - loss: 5.9143e-06 - accuracy: 1.0000\n",
      "Epoch 3: saving model to training_1\\cp-0003.ckpt\n",
      "5/5 [==============================] - 1s 119ms/step - loss: 6.1774e-06 - accuracy: 1.0000 - val_loss: 4.4448 - val_accuracy: 0.8696\n",
      "Epoch 4/50\n",
      "4/5 [=======================>......] - ETA: 0s - loss: 1.0491e-05 - accuracy: 1.0000\n",
      "Epoch 4: saving model to training_1\\cp-0004.ckpt\n",
      "5/5 [==============================] - 1s 115ms/step - loss: 1.0059e-05 - accuracy: 1.0000 - val_loss: 4.4579 - val_accuracy: 0.8696\n",
      "Epoch 5/50\n",
      "4/5 [=======================>......] - ETA: 0s - loss: 1.9953e-04 - accuracy: 1.0000\n",
      "Epoch 5: saving model to training_1\\cp-0005.ckpt\n",
      "5/5 [==============================] - 1s 127ms/step - loss: 2.3315e-04 - accuracy: 1.0000 - val_loss: 4.4730 - val_accuracy: 0.8696\n",
      "Epoch 6/50\n",
      "4/5 [=======================>......] - ETA: 0s - loss: 1.7969e-05 - accuracy: 1.0000\n",
      "Epoch 6: saving model to training_1\\cp-0006.ckpt\n",
      "5/5 [==============================] - 0s 100ms/step - loss: 1.7231e-05 - accuracy: 1.0000 - val_loss: 4.4835 - val_accuracy: 0.8696\n",
      "Epoch 7/50\n",
      "4/5 [=======================>......] - ETA: 0s - loss: 2.3409e-04 - accuracy: 1.0000\n",
      "Epoch 7: saving model to training_1\\cp-0007.ckpt\n",
      "5/5 [==============================] - 0s 97ms/step - loss: 2.3223e-04 - accuracy: 1.0000 - val_loss: 4.4928 - val_accuracy: 0.8696\n",
      "Epoch 8/50\n",
      "4/5 [=======================>......] - ETA: 0s - loss: 1.4294e-04 - accuracy: 1.0000\n",
      "Epoch 8: saving model to training_1\\cp-0008.ckpt\n",
      "5/5 [==============================] - 0s 100ms/step - loss: 1.3730e-04 - accuracy: 1.0000 - val_loss: 4.5088 - val_accuracy: 0.8696\n",
      "Epoch 9/50\n",
      "4/5 [=======================>......] - ETA: 0s - loss: 1.0096e-04 - accuracy: 1.0000\n",
      "Epoch 9: saving model to training_1\\cp-0009.ckpt\n",
      "5/5 [==============================] - 0s 101ms/step - loss: 9.6797e-05 - accuracy: 1.0000 - val_loss: 4.5265 - val_accuracy: 0.8696\n",
      "Epoch 10/50\n",
      "4/5 [=======================>......] - ETA: 0s - loss: 2.4602e-04 - accuracy: 1.0000\n",
      "Epoch 10: saving model to training_1\\cp-0010.ckpt\n",
      "5/5 [==============================] - 1s 171ms/step - loss: 2.3593e-04 - accuracy: 1.0000 - val_loss: 4.5420 - val_accuracy: 0.8696\n",
      "Epoch 11/50\n",
      "4/5 [=======================>......] - ETA: 0s - loss: 7.4939e-04 - accuracy: 1.0000\n",
      "Epoch 11: saving model to training_1\\cp-0011.ckpt\n",
      "5/5 [==============================] - 1s 170ms/step - loss: 7.1927e-04 - accuracy: 1.0000 - val_loss: 4.5599 - val_accuracy: 0.8696\n",
      "Epoch 12/50\n",
      "4/5 [=======================>......] - ETA: 0s - loss: 4.1950e-04 - accuracy: 1.0000\n",
      "Epoch 12: saving model to training_1\\cp-0012.ckpt\n",
      "5/5 [==============================] - 1s 164ms/step - loss: 4.0221e-04 - accuracy: 1.0000 - val_loss: 4.5962 - val_accuracy: 0.8696\n",
      "Epoch 13/50\n",
      "4/5 [=======================>......] - ETA: 0s - loss: 3.7171e-05 - accuracy: 1.0000\n",
      "Epoch 13: saving model to training_1\\cp-0013.ckpt\n",
      "5/5 [==============================] - 1s 135ms/step - loss: 3.5640e-05 - accuracy: 1.0000 - val_loss: 4.6239 - val_accuracy: 0.8696\n",
      "Epoch 14/50\n",
      "4/5 [=======================>......] - ETA: 0s - loss: 3.4427e-06 - accuracy: 1.0000\n",
      "Epoch 14: saving model to training_1\\cp-0014.ckpt\n",
      "5/5 [==============================] - 0s 101ms/step - loss: 3.3018e-06 - accuracy: 1.0000 - val_loss: 4.6421 - val_accuracy: 0.8696\n",
      "Epoch 15/50\n",
      "4/5 [=======================>......] - ETA: 0s - loss: 6.6741e-04 - accuracy: 1.0000\n",
      "Epoch 15: saving model to training_1\\cp-0015.ckpt\n",
      "5/5 [==============================] - 0s 100ms/step - loss: 6.4037e-04 - accuracy: 1.0000 - val_loss: 4.6640 - val_accuracy: 0.8696\n",
      "Epoch 16/50\n",
      "4/5 [=======================>......] - ETA: 0s - loss: 1.1031e-04 - accuracy: 1.0000\n",
      "Epoch 16: saving model to training_1\\cp-0016.ckpt\n",
      "5/5 [==============================] - 0s 97ms/step - loss: 1.0626e-04 - accuracy: 1.0000 - val_loss: 4.6888 - val_accuracy: 0.8696\n",
      "Epoch 17/50\n",
      "4/5 [=======================>......] - ETA: 0s - loss: 1.5508e-05 - accuracy: 1.0000\n",
      "Epoch 17: saving model to training_1\\cp-0017.ckpt\n",
      "5/5 [==============================] - 0s 101ms/step - loss: 1.5481e-05 - accuracy: 1.0000 - val_loss: 4.7055 - val_accuracy: 0.8696\n",
      "Epoch 18/50\n",
      "4/5 [=======================>......] - ETA: 0s - loss: 1.1415e-04 - accuracy: 1.0000\n",
      "Epoch 18: saving model to training_1\\cp-0018.ckpt\n",
      "5/5 [==============================] - 0s 104ms/step - loss: 1.0945e-04 - accuracy: 1.0000 - val_loss: 4.7287 - val_accuracy: 0.8696\n",
      "Epoch 19/50\n",
      "4/5 [=======================>......] - ETA: 0s - loss: 0.0058 - accuracy: 1.0000\n",
      "Epoch 19: saving model to training_1\\cp-0019.ckpt\n",
      "5/5 [==============================] - 1s 108ms/step - loss: 0.0056 - accuracy: 1.0000 - val_loss: 4.7549 - val_accuracy: 0.8696\n",
      "Epoch 20/50\n",
      "4/5 [=======================>......] - ETA: 0s - loss: 5.0272e-04 - accuracy: 1.0000\n",
      "Epoch 20: saving model to training_1\\cp-0020.ckpt\n",
      "5/5 [==============================] - 0s 105ms/step - loss: 4.8203e-04 - accuracy: 1.0000 - val_loss: 4.7930 - val_accuracy: 0.8696\n",
      "Epoch 21/50\n",
      "4/5 [=======================>......] - ETA: 0s - loss: 4.8688e-04 - accuracy: 1.0000\n",
      "Epoch 21: saving model to training_1\\cp-0021.ckpt\n",
      "5/5 [==============================] - 1s 110ms/step - loss: 4.6682e-04 - accuracy: 1.0000 - val_loss: 4.8601 - val_accuracy: 0.8696\n",
      "Epoch 22/50\n",
      "4/5 [=======================>......] - ETA: 0s - loss: 7.6414e-05 - accuracy: 1.0000\n",
      "Epoch 22: saving model to training_1\\cp-0022.ckpt\n",
      "5/5 [==============================] - 1s 106ms/step - loss: 7.3301e-05 - accuracy: 1.0000 - val_loss: 4.9171 - val_accuracy: 0.8696\n",
      "Epoch 23/50\n",
      "4/5 [=======================>......] - ETA: 0s - loss: 2.1340e-05 - accuracy: 1.0000\n",
      "Epoch 23: saving model to training_1\\cp-0023.ckpt\n",
      "5/5 [==============================] - 1s 104ms/step - loss: 2.0516e-05 - accuracy: 1.0000 - val_loss: 4.9620 - val_accuracy: 0.8696\n",
      "Epoch 24/50\n",
      "4/5 [=======================>......] - ETA: 0s - loss: 0.0076 - accuracy: 0.9961    \n",
      "Epoch 24: saving model to training_1\\cp-0024.ckpt\n",
      "5/5 [==============================] - 1s 112ms/step - loss: 0.0073 - accuracy: 0.9963 - val_loss: 4.9167 - val_accuracy: 0.8696\n",
      "Epoch 25/50\n",
      "4/5 [=======================>......] - ETA: 0s - loss: 7.8809e-06 - accuracy: 1.0000\n",
      "Epoch 25: saving model to training_1\\cp-0025.ckpt\n",
      "5/5 [==============================] - 0s 100ms/step - loss: 7.5562e-06 - accuracy: 1.0000 - val_loss: 4.8146 - val_accuracy: 0.8696\n",
      "Epoch 26/50\n",
      "4/5 [=======================>......] - ETA: 0s - loss: 4.9588e-05 - accuracy: 1.0000\n",
      "Epoch 26: saving model to training_1\\cp-0026.ckpt\n",
      "5/5 [==============================] - 0s 101ms/step - loss: 4.7545e-05 - accuracy: 1.0000 - val_loss: 4.7680 - val_accuracy: 0.8696\n",
      "Epoch 27/50\n",
      "4/5 [=======================>......] - ETA: 0s - loss: 6.2440e-06 - accuracy: 1.0000\n",
      "Epoch 27: saving model to training_1\\cp-0027.ckpt\n",
      "5/5 [==============================] - 0s 99ms/step - loss: 6.1207e-06 - accuracy: 1.0000 - val_loss: 4.7458 - val_accuracy: 0.8696\n",
      "Epoch 28/50\n",
      "4/5 [=======================>......] - ETA: 0s - loss: 5.8773e-05 - accuracy: 1.0000\n",
      "Epoch 28: saving model to training_1\\cp-0028.ckpt\n",
      "5/5 [==============================] - 0s 100ms/step - loss: 5.6352e-05 - accuracy: 1.0000 - val_loss: 4.7436 - val_accuracy: 0.8696\n",
      "Epoch 29/50\n",
      "4/5 [=======================>......] - ETA: 0s - loss: 0.0018 - accuracy: 1.0000\n",
      "Epoch 29: saving model to training_1\\cp-0029.ckpt\n",
      "5/5 [==============================] - 0s 100ms/step - loss: 0.0017 - accuracy: 1.0000 - val_loss: 4.7541 - val_accuracy: 0.8696\n",
      "Epoch 30/50\n",
      "4/5 [=======================>......] - ETA: 0s - loss: 8.3707e-06 - accuracy: 1.0000\n",
      "Epoch 30: saving model to training_1\\cp-0030.ckpt\n",
      "5/5 [==============================] - 1s 110ms/step - loss: 8.0263e-06 - accuracy: 1.0000 - val_loss: 4.7623 - val_accuracy: 0.8696\n",
      "Epoch 31/50\n",
      "4/5 [=======================>......] - ETA: 0s - loss: 3.1803e-04 - accuracy: 1.0000\n",
      "Epoch 31: saving model to training_1\\cp-0031.ckpt\n",
      "5/5 [==============================] - 1s 112ms/step - loss: 3.0492e-04 - accuracy: 1.0000 - val_loss: 4.7900 - val_accuracy: 0.8696\n",
      "Epoch 32/50\n",
      "4/5 [=======================>......] - ETA: 0s - loss: 1.9985e-05 - accuracy: 1.0000\n",
      "Epoch 32: saving model to training_1\\cp-0032.ckpt\n",
      "5/5 [==============================] - 1s 222ms/step - loss: 1.9167e-05 - accuracy: 1.0000 - val_loss: 4.8224 - val_accuracy: 0.8696\n",
      "Epoch 33/50\n",
      "4/5 [=======================>......] - ETA: 0s - loss: 1.2469e-04 - accuracy: 1.0000\n",
      "Epoch 33: saving model to training_1\\cp-0033.ckpt\n",
      "5/5 [==============================] - 1s 127ms/step - loss: 1.1956e-04 - accuracy: 1.0000 - val_loss: 4.8413 - val_accuracy: 0.8696\n",
      "Epoch 34/50\n",
      "4/5 [=======================>......] - ETA: 0s - loss: 1.2742e-04 - accuracy: 1.0000\n",
      "Epoch 34: saving model to training_1\\cp-0034.ckpt\n",
      "5/5 [==============================] - 1s 110ms/step - loss: 1.2217e-04 - accuracy: 1.0000 - val_loss: 4.8423 - val_accuracy: 0.8696\n",
      "Epoch 35/50\n",
      "4/5 [=======================>......] - ETA: 0s - loss: 5.0209e-05 - accuracy: 1.0000\n",
      "Epoch 35: saving model to training_1\\cp-0035.ckpt\n",
      "5/5 [==============================] - 1s 119ms/step - loss: 4.8141e-05 - accuracy: 1.0000 - val_loss: 4.8463 - val_accuracy: 0.8696\n",
      "Epoch 36/50\n",
      "4/5 [=======================>......] - ETA: 0s - loss: 0.0025 - accuracy: 1.0000\n",
      "Epoch 36: saving model to training_1\\cp-0036.ckpt\n",
      "5/5 [==============================] - 1s 109ms/step - loss: 0.0024 - accuracy: 1.0000 - val_loss: 4.9570 - val_accuracy: 0.8696\n",
      "Epoch 37/50\n",
      "4/5 [=======================>......] - ETA: 0s - loss: 1.5285e-06 - accuracy: 1.0000\n",
      "Epoch 37: saving model to training_1\\cp-0037.ckpt\n",
      "5/5 [==============================] - 1s 110ms/step - loss: 1.5649e-05 - accuracy: 1.0000 - val_loss: 5.1521 - val_accuracy: 0.8696\n",
      "Epoch 38/50\n",
      "4/5 [=======================>......] - ETA: 0s - loss: 1.3191e-05 - accuracy: 1.0000\n",
      "Epoch 38: saving model to training_1\\cp-0038.ckpt\n",
      "5/5 [==============================] - 1s 106ms/step - loss: 1.2688e-05 - accuracy: 1.0000 - val_loss: 5.2577 - val_accuracy: 0.8696\n",
      "Epoch 39/50\n",
      "4/5 [=======================>......] - ETA: 0s - loss: 6.7184e-04 - accuracy: 1.0000\n",
      "Epoch 39: saving model to training_1\\cp-0039.ckpt\n",
      "5/5 [==============================] - 1s 109ms/step - loss: 6.4416e-04 - accuracy: 1.0000 - val_loss: 5.1145 - val_accuracy: 0.8696\n",
      "Epoch 40/50\n",
      "4/5 [=======================>......] - ETA: 0s - loss: 1.4741e-06 - accuracy: 1.0000\n",
      "Epoch 40: saving model to training_1\\cp-0040.ckpt\n",
      "5/5 [==============================] - 1s 124ms/step - loss: 1.4147e-06 - accuracy: 1.0000 - val_loss: 4.8954 - val_accuracy: 0.8696\n",
      "Epoch 41/50\n",
      "4/5 [=======================>......] - ETA: 0s - loss: 2.9292e-04 - accuracy: 1.0000\n",
      "Epoch 41: saving model to training_1\\cp-0041.ckpt\n",
      "5/5 [==============================] - 1s 109ms/step - loss: 2.8085e-04 - accuracy: 1.0000 - val_loss: 4.8682 - val_accuracy: 0.8696\n",
      "Epoch 42/50\n",
      "4/5 [=======================>......] - ETA: 0s - loss: 2.6162e-05 - accuracy: 1.0000\n",
      "Epoch 42: saving model to training_1\\cp-0042.ckpt\n",
      "5/5 [==============================] - 1s 109ms/step - loss: 2.5084e-05 - accuracy: 1.0000 - val_loss: 4.8622 - val_accuracy: 0.8696\n",
      "Epoch 43/50\n",
      "4/5 [=======================>......] - ETA: 0s - loss: 0.0010 - accuracy: 1.0000\n",
      "Epoch 43: saving model to training_1\\cp-0043.ckpt\n",
      "5/5 [==============================] - 1s 113ms/step - loss: 9.7115e-04 - accuracy: 1.0000 - val_loss: 4.8791 - val_accuracy: 0.8696\n",
      "Epoch 44/50\n",
      "4/5 [=======================>......] - ETA: 0s - loss: 1.8229e-04 - accuracy: 1.0000\n",
      "Epoch 44: saving model to training_1\\cp-0044.ckpt\n",
      "5/5 [==============================] - 1s 108ms/step - loss: 1.7478e-04 - accuracy: 1.0000 - val_loss: 4.9067 - val_accuracy: 0.8696\n",
      "Epoch 45/50\n",
      "4/5 [=======================>......] - ETA: 0s - loss: 9.9589e-06 - accuracy: 1.0000\n",
      "Epoch 45: saving model to training_1\\cp-0045.ckpt\n",
      "5/5 [==============================] - 1s 111ms/step - loss: 9.5901e-06 - accuracy: 1.0000 - val_loss: 4.9298 - val_accuracy: 0.8696\n",
      "Epoch 46/50\n",
      "4/5 [=======================>......] - ETA: 0s - loss: 3.5852e-05 - accuracy: 1.0000\n",
      "Epoch 46: saving model to training_1\\cp-0046.ckpt\n",
      "5/5 [==============================] - 1s 111ms/step - loss: 3.4383e-05 - accuracy: 1.0000 - val_loss: 4.9518 - val_accuracy: 0.8696\n",
      "Epoch 47/50\n",
      "4/5 [=======================>......] - ETA: 0s - loss: 6.2597e-05 - accuracy: 1.0000\n",
      "Epoch 47: saving model to training_1\\cp-0047.ckpt\n",
      "5/5 [==============================] - 1s 115ms/step - loss: 6.0018e-05 - accuracy: 1.0000 - val_loss: 4.9689 - val_accuracy: 0.8696\n",
      "Epoch 48/50\n",
      "4/5 [=======================>......] - ETA: 0s - loss: 3.9651e-06 - accuracy: 1.0000\n",
      "Epoch 48: saving model to training_1\\cp-0048.ckpt\n",
      "5/5 [==============================] - 1s 120ms/step - loss: 3.8026e-06 - accuracy: 1.0000 - val_loss: 4.9795 - val_accuracy: 0.8696\n",
      "Epoch 49/50\n",
      "4/5 [=======================>......] - ETA: 0s - loss: 2.9877e-05 - accuracy: 1.0000\n",
      "Epoch 49: saving model to training_1\\cp-0049.ckpt\n",
      "5/5 [==============================] - 1s 126ms/step - loss: 2.8647e-05 - accuracy: 1.0000 - val_loss: 4.9876 - val_accuracy: 0.8696\n",
      "Epoch 50/50\n",
      "4/5 [=======================>......] - ETA: 0s - loss: 0.0068 - accuracy: 0.9961\n",
      "Epoch 50: saving model to training_1\\cp-0050.ckpt\n",
      "5/5 [==============================] - 1s 106ms/step - loss: 0.0065 - accuracy: 0.9963 - val_loss: 5.0274 - val_accuracy: 0.8696\n",
      "Loaded weights from training_1\\cp-0050.ckpt\n",
      "Files in checkpoint directory 101\n"
     ]
    }
   ],
   "source": [
    "Model.fit(x_train, y_train, batch_size=64, epochs=50, validation_data=(x_test, y_test), callbacks=[early_stop, checkpoint_callback_1])\n",
    "\n",
    "latest = tf.train.latest_checkpoint(checkpoint_dir_1)\n",
    "if latest:\n",
    "    Model.load_weights(latest)\n",
    "    print(f\"Loaded weights from {latest}\")\n",
    "else:\n",
    "    print(\"No checkpoint found. Please check the checkpoint directory.\")\n",
    "    \n",
    "print(\"Files in checkpoint directory\", len(os.listdir(checkpoint_dir_1)))"
   ]
  },
  {
   "cell_type": "code",
   "execution_count": 35,
   "metadata": {},
   "outputs": [
    {
     "name": "stdout",
     "output_type": "stream",
     "text": [
      "3/3 [==============================] - 0s 12ms/step - loss: 1.7900 - accuracy: 0.8841\n",
      "LOSS:  1.7900\n",
      "ACCURACY:  0.8841\n"
     ]
    }
   ],
   "source": [
    "Model_Results = Model.evaluate(x_test,y_test)\n",
    "print(\"LOSS:  \" + \"%.4f\" % Model_Results[0])\n",
    "print(\"ACCURACY:  \" + \"%.4f\" % Model_Results[1])"
   ]
  },
  {
   "cell_type": "code",
   "execution_count": 36,
   "metadata": {},
   "outputs": [
    {
     "data": {
      "image/png": "[encoded data removed]",
      "text/plain": [
       "<Figure size 1400x500 with 2 Axes>"
      ]
     },
     "metadata": {},
     "output_type": "display_data"
    }
   ],
   "source": [
    "# Plotting loss\n",
    "plt.figure(figsize=(14, 5))\n",
    "plt.subplot(1, 2, 1)\n",
    "plt.plot(evConv1D_Model.history['loss'], label='Training Loss')\n",
    "plt.plot(evConv1D_Model.history['val_loss'], label='Validation Loss')\n",
    "plt.legend()\n",
    "plt.title('Training and Validation Loss')\n",
    "\n",
    "# Plotting accuracy\n",
    "plt.subplot(1, 2, 2)\n",
    "plt.plot(evConv1D_Model.history['accuracy'], label='Training Accuracy')\n",
    "plt.plot(evConv1D_Model.history['val_accuracy'], label='Validation Accuracy')\n",
    "plt.legend()\n",
    "plt.title('Training and Validation Accuracy')\n",
    "\n",
    "plt.show()\n"
   ]
  },
  {
   "cell_type": "code",
   "execution_count": 37,
   "metadata": {},
   "outputs": [
    {
     "name": "stdout",
     "output_type": "stream",
     "text": [
      "3/3 [==============================] - 0s 11ms/step\n",
      "0.8436853002070392\n"
     ]
    },
    {
     "data": {
      "image/png": "[encoded data removed]",
      "text/plain": [
       "<Figure size 640x480 with 2 Axes>"
      ]
     },
     "metadata": {},
     "output_type": "display_data"
    }
   ],
   "source": [
    "# Getting the predictions\n",
    "import sklearn\n",
    "y_pred = Model.predict(x_test)\n",
    "y_pred_classes = np.argmax(y_pred, axis=1)\n",
    "y_true = np.argmax(y_test, axis=1)\n",
    "\n",
    "# Generating the confusion matrix\n",
    "confusion_mtx = confusion_matrix(y_true, y_pred_classes)\n",
    "\n",
    "# Displaying the confusion matrix\n",
    "cm_display = ConfusionMatrixDisplay(confusion_mtx, display_labels=le.classes_).plot()\n",
    "print(sklearn.metrics.f1_score(y_true, y_pred_classes, average='weighted'))\n"
   ]
  },
  {
   "cell_type": "code",
   "execution_count": null,
   "metadata": {},
   "outputs": [],
   "source": []
  }
 ],
 "metadata": {
  "kernelspec": {
   "display_name": "flow",
   "language": "python",
   "name": "python3"
  },
  "language_info": {
   "codemirror_mode": {
    "name": "ipython",
    "version": 3
   },
   "file_extension": ".py",
   "mimetype": "text/x-python",
   "name": "python",
   "nbconvert_exporter": "python",
   "pygments_lexer": "ipython3",
   "version": "3.10.8"
  }
 },
 "nbformat": 4,
 "nbformat_minor": 2
}
